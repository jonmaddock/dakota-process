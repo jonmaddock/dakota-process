{
 "cells": [
  {
   "cell_type": "markdown",
   "metadata": {},
   "source": [
    "# Prepare Process Solution for UQ\n",
    "\n",
    "Convert IN.DAT to inequality problem then run it. Take the solution vector from the MFILE.DAT and copy it back into the original inequality IN.DAT, but make it a \"once-through\" (non-optimising) input. This input file is then prepared for UQ at the solution vector."
   ]
  },
  {
   "cell_type": "code",
   "execution_count": 1,
   "metadata": {},
   "outputs": [],
   "source": [
    "from mfile_to_in import convert\n",
    "import subprocess"
   ]
  },
  {
   "cell_type": "markdown",
   "metadata": {},
   "source": [
    "## Convert original input file to inequalities\n",
    "\n",
    "Take original large tokamak IN.DAT (`lt_orig_IN.DAT`). Convert it to an inequalities input file (`lt_IN.DAT`), maintaining any f-value initialisations.\n",
    "\n",
    "This isn't required if input file is already an inequalities file."
   ]
  },
  {
   "cell_type": "code",
   "execution_count": 2,
   "metadata": {},
   "outputs": [],
   "source": [
    "original_in_name = \"SPR-068-5_IN.DAT\"\n",
    "ineqs_in_name = \"SPR-068-5_ineqs_IN.DAT\""
   ]
  },
  {
   "cell_type": "code",
   "execution_count": 3,
   "metadata": {},
   "outputs": [
    {
     "name": "stdout",
     "output_type": "stream",
     "text": [
      "f-value initialisation for ffuspow removed\n",
      "f-value initialisation for fdene removed\n",
      "f-value initialisation for fbetatry removed\n",
      "Keeping f-value flhthresh with value 2.85\n",
      "f-value initialisation for ftaulimit removed\n",
      "f-value initialisation for fne0 removed\n",
      "f-value initialisation for fradpwr removed\n",
      "f-value initialisation for fpsepr removed\n",
      "f-value initialisation for fiooic removed\n",
      "f-value initialisation for fstrcase removed\n",
      "f-value initialisation for fradwall removed\n",
      "f-value initialisation for fpinj removed\n",
      "f-value initialisation for fipir removed\n",
      "f-values removed as optimisation parameters = 11\n",
      "f-value initialisations removed = 12\n"
     ]
    },
    {
     "data": {
      "text/plain": [
       "'SPR-068-5_ineqs_IN.DAT'"
      ]
     },
     "execution_count": 3,
     "metadata": {},
     "output_type": "execute_result"
    }
   ],
   "source": [
    "convert(\n",
    "    original_in_name=original_in_name,\n",
    "    new_in_name=ineqs_in_name,\n",
    "    no_optimisation=False,\n",
    "    n_equalities=3,\n",
    "    remove_f_value_inits=True,  # this might want to be the default\n",
    ")"
   ]
  },
  {
   "cell_type": "markdown",
   "metadata": {},
   "source": [
    "Now run with VMCON. Result is inequality-solved solution."
   ]
  },
  {
   "cell_type": "code",
   "execution_count": 16,
   "metadata": {},
   "outputs": [
    {
     "name": "stdout",
     "output_type": "stream",
     "text": [
      "The IN.DAT file does not contain any obsolete variables.\n",
      " tmargmin_cs and tmargmin should not both be specified in IN.DAT.\n",
      " tmargmin_cs has been ignored.\n",
      " \n",
      " **************************************************************************************************************\n",
      " ************************************************** PROCESS ***************************************************\n",
      " ************************************** Power Reactor Optimisation Code ***************************************\n",
      " **************************************************************************************************************\n",
      " \n",
      "   Program :\n",
      "   Version : 3.1.0   Release Date :: 2024-03-21\n",
      "   Tag No. : v3.1.0-102-g57625e3b3\n",
      "    Branch : main\n",
      "   Git log : Skip stellarator regression test\n",
      " Date/time :  4 Jul 2024 13:29:32 +01:00(hh:mm) UTC\n",
      "      User : jon\n",
      "  Computer : jon-Precision-3560\n",
      " Directory : /home/jon/code/dakota-process/design_points\n",
      "     Input : /home/jon/code/dakota-process/design_points/lt_IN.DAT\n",
      " Run title : Generic large tokamak\n",
      "  Run type : Reactor concept design: Pulsed tokamak model, (c) CCFE\n",
      " \n",
      " **************************************************************************************************************\n",
      " \n",
      "   Equality constraints : 03\n",
      " Inequality constraints : 23\n",
      "      Total constraints : 26\n",
      "    Iteration variables : 21\n",
      "         Max iterations : 200\n",
      "       Figure of merit  : +01  -- minimise major radius\n",
      "  Convergence parameter : 1.00E-07\n",
      " \n",
      " **************************************************************************************************************\n",
      "1 | Convergence Parameter: 6.404E-01\r"
     ]
    },
    {
     "name": "stderr",
     "output_type": "stream",
     "text": [
      "process.solver - WARNING - QSP failed to solve, indicating no feasible solution could be found.\n"
     ]
    },
    {
     "name": "stdout",
     "output_type": "stream",
     "text": [
      "\n",
      "Trying again with new epsfcn\n",
      "new epsfcn =  0.01\n",
      "1 | Convergence Parameter: 6.401E-01\r"
     ]
    },
    {
     "name": "stderr",
     "output_type": "stream",
     "text": [
      "process.solver - WARNING - QSP failed to solve, indicating no feasible solution could be found.\n"
     ]
    },
    {
     "name": "stdout",
     "output_type": "stream",
     "text": [
      "\n",
      "Trying again with new epsfcn\n",
      "new epsfcn =  0.0001\n",
      "1 | Convergence Parameter: 6.405E-01\r"
     ]
    },
    {
     "name": "stderr",
     "output_type": "stream",
     "text": [
      "process.solver - WARNING - QSP failed to solve, indicating no feasible solution could be found.\n"
     ]
    },
    {
     "name": "stdout",
     "output_type": "stream",
     "text": [
      "\n",
      "VMCON error code = 5.  Rerunning VMCON with a new initial estimate of the second derivative matrix.\n",
      "1 | Convergence Parameter: 9.970E-01\r"
     ]
    },
    {
     "name": "stderr",
     "output_type": "stream",
     "text": [
      "process.solver - WARNING - QSP failed to solve, indicating no feasible solution could be found.\n",
      "process.power - WARNING - WARNING: Power balance across separatrix is in error by more than 5 MW.\n",
      "process.power - WARNING - WARNING: Power balance across separatrix is in error by more than 5 MW.\n",
      "process.power - WARNING - WARNING: Power balance across separatrix is in error by more than 5 MW.\n"
     ]
    },
    {
     "name": "stdout",
     "output_type": "stream",
     "text": [
      "\n",
      " \n",
      " ********************************* PROCESS COULD NOT FIND A FEASIBLE SOLUTION *********************************\n",
      " \n",
      " \n",
      " The quadratic programming technique was unable to\n",
      " find a feasible point.\n",
      " \n",
      " Try changing or adding variables to IXC, or modify\n",
      " their initial values (especially if only 1 optimisation\n",
      " iteration was performed).\n",
      " \n",
      " \n",
      " ******************************************** Errors and Warnings *********************************************\n",
      " \n",
      " PROCESS status flag:   Warning messages                                  \n",
      " \n",
      " ID  LEVEL  MESSAGE\n",
      "150     2   CHECK: Lower limit of volume averaged electron temperature (te) has been raised \n",
      "  \n",
      "132     2   DOOPT: Optimisation solver VMCON returns with ifail /= 1                        \n",
      " Integer diagnostic values for this error:\n",
      "   1)              5\n",
      "  \n",
      "243     2   PHYSICS: Predicted plasma driven current is more than upper limit on non-inducti\n",
      "  \n",
      "244     2   PHYSICS: Diamagnetic fraction is more than 1%, but not calculated. Consider usin\n",
      "  \n",
      "243     2   PHYSICS: Predicted plasma driven current is more than upper limit on non-inducti\n",
      "  \n",
      "244     2   PHYSICS: Diamagnetic fraction is more than 1%, but not calculated. Consider usin\n",
      "  \n",
      "243     2   PHYSICS: Predicted plasma driven current is more than upper limit on non-inducti\n",
      "  \n",
      "244     2   PHYSICS: Diamagnetic fraction is more than 1%, but not calculated. Consider usin\n",
      "  \n",
      " **************************************************************************************************************\n",
      " \n",
      " \n",
      " ******************************************* End of PROCESS Output ********************************************\n",
      " \n"
     ]
    },
    {
     "data": {
      "text/plain": [
       "CompletedProcess(args=['process', '-i', 'lt_IN.DAT'], returncode=0)"
      ]
     },
     "execution_count": 16,
     "metadata": {},
     "output_type": "execute_result"
    }
   ],
   "source": [
    "subprocess.run([\"process\", \"-i\", ineqs_in_name])"
   ]
  },
  {
   "cell_type": "code",
   "execution_count": 14,
   "metadata": {},
   "outputs": [
    {
     "data": {
      "text/plain": [
       "CompletedProcess(args='rm *SIG_TF.json *OUT.DAT', returncode=0)"
      ]
     },
     "execution_count": 14,
     "metadata": {},
     "output_type": "execute_result"
    }
   ],
   "source": [
    "# Remove unwanted outputs\n",
    "subprocess.run(\"rm *SIG_TF.json *OUT.DAT\", shell=True)"
   ]
  },
  {
   "cell_type": "markdown",
   "metadata": {},
   "source": [
    "\n",
    "## Create once-through input file from solution point for UQ studies\n",
    "\n",
    "Use the solution vector to create a once-through (non-optimising) input file for UQ studies."
   ]
  },
  {
   "cell_type": "code",
   "execution_count": 15,
   "metadata": {},
   "outputs": [
    {
     "name": "stdout",
     "output_type": "stream",
     "text": [
      "Optimisation parameter f-values ignored = 0\n",
      "f-values removed as optimisation parameters = 0\n"
     ]
    },
    {
     "data": {
      "text/plain": [
       "PosixPath('lt_sol_IN.DAT')"
      ]
     },
     "execution_count": 15,
     "metadata": {},
     "output_type": "execute_result"
    }
   ],
   "source": [
    "input_name_stem = ineqs_in_name.split(\"_IN.DAT\")[0]\n",
    "mfile_name = input_name_stem + \"_MFILE.DAT\"\n",
    "sol_in_name = input_name_stem + \"_sol_IN.DAT\"\n",
    "\n",
    "convert(\n",
    "    original_in_name=ineqs_in_name,\n",
    "    mfile_name=mfile_name,\n",
    "    new_in_name=sol_in_name,\n",
    "    no_optimisation=True,\n",
    "    n_equalities=3,\n",
    "    remove_f_value_inits=False,\n",
    ")"
   ]
  },
  {
   "cell_type": "markdown",
   "metadata": {},
   "source": [
    "Optionally run the solution vector once-through IN.DAT."
   ]
  },
  {
   "cell_type": "code",
   "execution_count": 7,
   "metadata": {},
   "outputs": [
    {
     "name": "stdout",
     "output_type": "stream",
     "text": [
      "The IN.DAT file does not contain any obsolete variables.\n",
      " tmargmin_cs and tmargmin should not both be specified in IN.DAT.\n",
      " tmargmin_cs has been ignored.\n",
      " \n",
      " **************************************************************************************************************\n",
      " ************************************************** PROCESS ***************************************************\n",
      " ************************************** Power Reactor Optimisation Code ***************************************\n",
      " **************************************************************************************************************\n",
      " \n",
      "   Program :\n",
      "   Version : 3.1.0   Release Date :: 2024-03-21\n",
      "   Tag No. : v3.1.0-102-g57625e3b3\n",
      "    Branch : main\n",
      "   Git log : Skip stellarator regression test\n",
      " Date/time :  4 Jul 2024 11:35:55 +01:00(hh:mm) UTC\n",
      "      User : jon\n",
      "  Computer : jon-Precision-3560\n",
      " Directory : /home/jon/code/dakota-process/design_points\n",
      "     Input : /home/jon/code/dakota-process/design_points/lt_sol_IN.DAT\n",
      " Run title : generic large tokamak\n",
      "  Run type : Reactor concept design: Pulsed tokamak model, (c) CCFE\n",
      " \n",
      " **************************************************************************************************************\n",
      " \n",
      "   Equality constraints : 03\n",
      " Inequality constraints : 23\n",
      "      Total constraints : 26\n",
      "    Iteration variables : 21\n",
      "         Max iterations : 200\n",
      "       Figure of merit  : +01  -- minimise major radius\n",
      "  Convergence parameter : 1.00E-07\n",
      " \n",
      " **************************************************************************************************************\n",
      " \n",
      " ******************************************** Errors and Warnings *********************************************\n",
      " \n",
      " PROCESS status flag:   Warning messages                                  \n",
      " \n",
      " ID  LEVEL  MESSAGE\n",
      "244     2   PHYSICS: Diamagnetic fraction is more than 1%, but not calculated. Consider usin\n",
      "  \n",
      " 93     2   BURN: Negative burn time available; reduce t_fusion_ramp or raise PF coil V-s ca\n",
      " Floating point diagnostic values for this error:\n",
      "   1)   -1.00000E+01\n",
      "   2)   -0.00000E+00\n",
      "   3)    4.06845E-02\n",
      "   4)    1.00000E+01\n",
      "  \n",
      "135     1   OUTPF: CS not using max current density: further optimisation may be possible   \n",
      "  \n",
      "244     2   PHYSICS: Diamagnetic fraction is more than 1%, but not calculated. Consider usin\n",
      "  \n",
      "135     1   OUTPF: CS not using max current density: further optimisation may be possible   \n",
      "  \n",
      "244     2   PHYSICS: Diamagnetic fraction is more than 1%, but not calculated. Consider usin\n",
      "  \n",
      "135     1   OUTPF: CS not using max current density: further optimisation may be possible   \n",
      "  \n",
      "244     2   PHYSICS: Diamagnetic fraction is more than 1%, but not calculated. Consider usin\n",
      "  \n",
      "135     1   OUTPF: CS not using max current density: further optimisation may be possible   \n",
      "  \n",
      "244     2   PHYSICS: Diamagnetic fraction is more than 1%, but not calculated. Consider usin\n",
      "  \n",
      "135     1   OUTPF: CS not using max current density: further optimisation may be possible   \n",
      "  \n",
      "244     2   PHYSICS: Diamagnetic fraction is more than 1%, but not calculated. Consider usin\n",
      "  \n",
      "135     1   OUTPF: CS not using max current density: further optimisation may be possible   \n",
      "  \n",
      " **************************************************************************************************************\n",
      " \n",
      " \n",
      " ******************************************* End of PROCESS Output ********************************************\n",
      " \n"
     ]
    },
    {
     "data": {
      "text/plain": [
       "CompletedProcess(args='rm *SIG_TF.json *OUT.DAT', returncode=0)"
      ]
     },
     "execution_count": 7,
     "metadata": {},
     "output_type": "execute_result"
    }
   ],
   "source": [
    "subprocess.run([\"process\", \"-i\", sol_in_name])\n",
    "# Remove unwanted outputs\n",
    "subprocess.run(\"rm *SIG_TF.json *OUT.DAT\", shell=True)"
   ]
  },
  {
   "cell_type": "markdown",
   "metadata": {},
   "source": [
    "Could extend to convert solution IN.DAT to template for UQ."
   ]
  }
 ],
 "metadata": {
  "kernelspec": {
   "display_name": "easyVVUQ-process",
   "language": "python",
   "name": "python3"
  },
  "language_info": {
   "codemirror_mode": {
    "name": "ipython",
    "version": 3
   },
   "file_extension": ".py",
   "mimetype": "text/x-python",
   "name": "python",
   "nbconvert_exporter": "python",
   "pygments_lexer": "ipython3",
   "version": "3.10.13"
  }
 },
 "nbformat": 4,
 "nbformat_minor": 2
}
