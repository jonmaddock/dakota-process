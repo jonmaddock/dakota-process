{
 "cells": [
  {
   "cell_type": "markdown",
   "metadata": {},
   "source": [
    "# Prepare Process Solution for UQ\n",
    "\n",
    "Convert IN.DAT to inequality problem then run it. Take the solution vector from the MFILE.DAT and copy it back into the original inequality IN.DAT, but make it a \"once-through\" (non-optimising) input. This input file is then prepared for UQ at the solution vector."
   ]
  },
  {
   "cell_type": "code",
   "execution_count": 1,
   "metadata": {},
   "outputs": [],
   "source": [
    "from mfile_to_in import convert\n",
    "import subprocess"
   ]
  },
  {
   "cell_type": "markdown",
   "metadata": {},
   "source": [
    "## Convert original input file to inequalities\n",
    "\n",
    "Take original large tokamak IN.DAT (`lt_orig_IN.DAT`). Convert it to an inequalities input file (`lt_IN.DAT`), maintaining any f-value initialisations."
   ]
  },
  {
   "cell_type": "code",
   "execution_count": 4,
   "metadata": {},
   "outputs": [],
   "source": [
    "original_in_name = \"lt_orig_IN.DAT\"\n",
    "ineqs_in_name = \"lt_IN.DAT\""
   ]
  },
  {
   "cell_type": "code",
   "execution_count": 5,
   "metadata": {},
   "outputs": [
    {
     "name": "stdout",
     "output_type": "stream",
     "text": [
      "f-values removed as optimisation parameters = 22\n"
     ]
    },
    {
     "data": {
      "text/plain": [
       "'lt_IN.DAT'"
      ]
     },
     "execution_count": 5,
     "metadata": {},
     "output_type": "execute_result"
    }
   ],
   "source": [
    "convert(\n",
    "    original_in_name=original_in_name,\n",
    "    new_in_name=ineqs_in_name,\n",
    "    no_optimisation=False,\n",
    "    n_equalities=3,\n",
    "    remove_f_value_inits=False,\n",
    ")"
   ]
  },
  {
   "cell_type": "markdown",
   "metadata": {},
   "source": [
    "Now run with VMCON. Result is inequality-solved solution."
   ]
  },
  {
   "cell_type": "code",
   "execution_count": 6,
   "metadata": {},
   "outputs": [
    {
     "name": "stdout",
     "output_type": "stream",
     "text": [
      "The IN.DAT file does not contain any obsolete variables.\n",
      " tmargmin_cs and tmargmin should not both be specified in IN.DAT.\n",
      " tmargmin_cs has been ignored.\n",
      " \n",
      " **************************************************************************************************************\n",
      " ************************************************** PROCESS ***************************************************\n",
      " ************************************** Power Reactor Optimisation Code ***************************************\n",
      " **************************************************************************************************************\n",
      " \n",
      "   Program :\n",
      "   Version : 3.1.0   Release Date :: 2024-03-21\n",
      "   Tag No. : v3.1.0-82-g1a2a3b216\n",
      "    Branch : main\n",
      "   Git log : Calc of build_variables.dh_tf_inner_bore revised ([hash]3223)\n",
      " Date/time : 18 Jun 2024 11:45:10 +01:00(hh:mm) UTC\n",
      "      User : jon\n",
      "  Computer : jon-Precision-3560\n",
      " Directory : /home/jon/code/dakota-process/design_points\n",
      "     Input : /home/jon/code/dakota-process/design_points/lt_IN.DAT\n",
      " Run title : Generic large tokamak\n",
      "  Run type : Reactor concept design: Pulsed tokamak model, (c) CCFE\n",
      " \n",
      " **************************************************************************************************************\n",
      " \n",
      "   Equality constraints : 03\n",
      " Inequality constraints : 23\n",
      "      Total constraints : 26\n",
      "    Iteration variables : 22\n",
      "         Max iterations : 200\n",
      "       Figure of merit  : +01  -- minimise major radius\n",
      "  Convergence parameter : 1.00E-07\n",
      " \n",
      " **************************************************************************************************************\n",
      "8 | Convergence Parameter: 5.342E-09\n",
      " \n",
      " ************************************* PROCESS found a feasible solution **************************************\n",
      " \n",
      " \n",
      " ******************************************** Errors and Warnings *********************************************\n",
      " \n",
      " PROCESS status flag:   Warning messages                                  \n",
      " \n",
      " ID  LEVEL  MESSAGE\n",
      "150     2   CHECK: Lower limit of volume averaged electron temperature (te) has been raised \n",
      "  \n",
      "243     2   PHYSICS: Predicted plasma driven current is more than upper limit on non-inducti\n",
      "  \n",
      "244     2   PHYSICS: Diamagnetic fraction is more than 1%, but not calculated. Consider usin\n",
      "  \n",
      " **************************************************************************************************************\n",
      " \n",
      " \n",
      " ******************************************* End of PROCESS Output ********************************************\n",
      " \n"
     ]
    },
    {
     "data": {
      "text/plain": [
       "CompletedProcess(args=['process', '-i', 'lt_IN.DAT'], returncode=0)"
      ]
     },
     "execution_count": 6,
     "metadata": {},
     "output_type": "execute_result"
    }
   ],
   "source": [
    "subprocess.run([\"process\", \"-i\", ineqs_in_name])"
   ]
  },
  {
   "cell_type": "code",
   "execution_count": 7,
   "metadata": {},
   "outputs": [
    {
     "data": {
      "text/plain": [
       "CompletedProcess(args='rm *SIG_TF.json *OUT.DAT', returncode=0)"
      ]
     },
     "execution_count": 7,
     "metadata": {},
     "output_type": "execute_result"
    }
   ],
   "source": [
    "# Remove unwanted outputs\n",
    "subprocess.run(\"rm *SIG_TF.json *OUT.DAT\", shell=True)"
   ]
  },
  {
   "cell_type": "markdown",
   "metadata": {},
   "source": [
    "\n",
    "## Create once-through input file from solution point for UQ studies\n",
    "\n",
    "Use the solution vector to create a once-through (non-optimising) input file for UQ studies."
   ]
  },
  {
   "cell_type": "code",
   "execution_count": 8,
   "metadata": {},
   "outputs": [
    {
     "name": "stdout",
     "output_type": "stream",
     "text": [
      "Optimisation parameter f-values ignored = 0\n",
      "f-values removed as optimisation parameters = 0\n"
     ]
    },
    {
     "data": {
      "text/plain": [
       "PosixPath('lt_sol_IN.DAT')"
      ]
     },
     "execution_count": 8,
     "metadata": {},
     "output_type": "execute_result"
    }
   ],
   "source": [
    "input_name_stem = ineqs_in_name.split(\"_IN.DAT\")[0]\n",
    "mfile_name = input_name_stem + \"_MFILE.DAT\"\n",
    "sol_in_name = input_name_stem + \"_sol_IN.DAT\"\n",
    "\n",
    "convert(\n",
    "    original_in_name=ineqs_in_name,\n",
    "    mfile_name=mfile_name,\n",
    "    new_in_name=sol_in_name,\n",
    "    no_optimisation=True,\n",
    "    n_equalities=3,\n",
    "    remove_f_value_inits=False,\n",
    ")"
   ]
  },
  {
   "cell_type": "markdown",
   "metadata": {},
   "source": [
    "Optionally run the solution vector once-through IN.DAT."
   ]
  },
  {
   "cell_type": "code",
   "execution_count": 9,
   "metadata": {},
   "outputs": [
    {
     "name": "stdout",
     "output_type": "stream",
     "text": [
      "The IN.DAT file does not contain any obsolete variables.\n",
      " tmargmin_cs and tmargmin should not both be specified in IN.DAT.\n",
      " tmargmin_cs has been ignored.\n",
      " \n",
      " **************************************************************************************************************\n",
      " ************************************************** PROCESS ***************************************************\n",
      " ************************************** Power Reactor Optimisation Code ***************************************\n",
      " **************************************************************************************************************\n",
      " \n",
      "   Program :\n",
      "   Version : 3.1.0   Release Date :: 2024-03-21\n",
      "   Tag No. : v3.1.0-82-g1a2a3b216\n",
      "    Branch : main\n",
      "   Git log : Calc of build_variables.dh_tf_inner_bore revised ([hash]3223)\n",
      " Date/time : 18 Jun 2024 11:46:49 +01:00(hh:mm) UTC\n",
      "      User : jon\n",
      "  Computer : jon-Precision-3560\n",
      " Directory : /home/jon/code/dakota-process/design_points\n",
      "     Input : /home/jon/code/dakota-process/design_points/lt_sol_IN.DAT\n",
      " Run title : generic large tokamak\n",
      "  Run type : Reactor concept design: Pulsed tokamak model, (c) CCFE\n",
      " \n",
      " **************************************************************************************************************\n",
      " \n",
      "   Equality constraints : 03\n",
      " Inequality constraints : 23\n",
      "      Total constraints : 26\n",
      "    Iteration variables : 22\n",
      "         Max iterations : 200\n",
      "       Figure of merit  : +01  -- minimise major radius\n",
      "  Convergence parameter : 1.00E-07\n",
      " \n",
      " **************************************************************************************************************\n",
      " \n",
      " ******************************************** Errors and Warnings *********************************************\n",
      " \n",
      " PROCESS status flag:   Warning messages                                  \n",
      " \n",
      " ID  LEVEL  MESSAGE\n",
      "243     2   PHYSICS: Predicted plasma driven current is more than upper limit on non-inducti\n",
      "  \n",
      "244     2   PHYSICS: Diamagnetic fraction is more than 1%, but not calculated. Consider usin\n",
      "  \n",
      " **************************************************************************************************************\n",
      " \n",
      " \n",
      " ******************************************* End of PROCESS Output ********************************************\n",
      " \n"
     ]
    },
    {
     "data": {
      "text/plain": [
       "CompletedProcess(args='rm *SIG_TF.json *OUT.DAT', returncode=0)"
      ]
     },
     "execution_count": 9,
     "metadata": {},
     "output_type": "execute_result"
    }
   ],
   "source": [
    "subprocess.run([\"process\", \"-i\", sol_in_name])\n",
    "# Remove unwanted outputs\n",
    "subprocess.run(\"rm *SIG_TF.json *OUT.DAT\", shell=True)"
   ]
  },
  {
   "cell_type": "markdown",
   "metadata": {},
   "source": [
    "Could extend to convert solution IN.DAT to template for UQ."
   ]
  }
 ],
 "metadata": {
  "kernelspec": {
   "display_name": "easyVVUQ-process",
   "language": "python",
   "name": "python3"
  },
  "language_info": {
   "codemirror_mode": {
    "name": "ipython",
    "version": 3
   },
   "file_extension": ".py",
   "mimetype": "text/x-python",
   "name": "python",
   "nbconvert_exporter": "python",
   "pygments_lexer": "ipython3",
   "version": "3.10.13"
  }
 },
 "nbformat": 4,
 "nbformat_minor": 2
}
