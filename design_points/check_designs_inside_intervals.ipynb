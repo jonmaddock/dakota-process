{
 "cells": [
  {
   "cell_type": "markdown",
   "metadata": {},
   "source": [
    "# Check design point is inside uncertain bounds\n",
    "\n",
    "Ensure uncertain parameter space is being sampled around the design point, not at a discontinuous \"jump\" from it."
   ]
  },
  {
   "cell_type": "code",
   "execution_count": 1,
   "metadata": {},
   "outputs": [],
   "source": [
    "import re\n",
    "from pathlib import Path"
   ]
  },
  {
   "cell_type": "code",
   "execution_count": 2,
   "metadata": {},
   "outputs": [],
   "source": [
    "# Input file to check lies in uncertain intervals\n",
    "input_file_name = \"lt_sol_IN.DAT\"\n",
    "# input_file_name = \"lt_max_q_sol_IN.DAT\""
   ]
  },
  {
   "cell_type": "code",
   "execution_count": 3,
   "metadata": {},
   "outputs": [],
   "source": [
    "# Uncertain parameter intervals\n",
    "params = {\n",
    "    \"fdene\": [1.1, 1.3],\n",
    "    \"hfact\": [1.0, 1.2],\n",
    "    \"coreradius\": [0.45, 0.75],\n",
    "    \"fimp(2)\": [0.085, 0.115],\n",
    "    \"fimp(14)\": [1.0e-5, 1.0e-4],\n",
    "    \"psepbqarmax\": [8.7, 9.7],\n",
    "    \"flhthresh\": [0.85, 1.15],\n",
    "    \"cboot\": [0.95, 1.05],\n",
    "    \"peakfactrad\": [2.0, 3.5],\n",
    "    \"kappa\": [1.8, 1.9],\n",
    "    \"etaech\": [0.3, 0.5],\n",
    "    \"feffcd\": [0.5, 5.0],\n",
    "    \"etath\": [0.36, 0.4],\n",
    "    \"etaiso\": [0.75, 0.95],\n",
    "    \"boundl(18)\": [3.25, 3.75],\n",
    "    \"pinjalw\": [51.0, 61.0],\n",
    "    \"alstroh\": [6.0e8, 7.2e8],\n",
    "    \"sig_tf_wp_max\": [5.2e8, 6.4e8],\n",
    "    \"aspect\": [3.0, 3.2],\n",
    "    \"boundu(2)\": [11.0, 12.0],\n",
    "    \"triang\": [0.4, 0.6],\n",
    "}\n",
    "\n",
    "# If params aren't in lt_sol_IN.DAT (not defined), then use defaults from Process\n",
    "# Leave as None for params that are defined in IN.DAT\n",
    "default_params = {\n",
    "    \"fdene\": None,\n",
    "    \"hfact\": None,\n",
    "    \"coreradius\": None,\n",
    "    \"fimp(2)\": None,\n",
    "    \"fimp(14)\": None,\n",
    "    \"psepbqarmax\": None,\n",
    "    \"flhthresh\": 1.0,\n",
    "    \"cboot\": 1.0,\n",
    "    \"peakfactrad\": 3.33,\n",
    "    \"kappa\": None,\n",
    "    \"etaech\": None,\n",
    "    \"feffcd\": 1.0,\n",
    "    \"etath\": None,\n",
    "    \"etaiso\": None,\n",
    "    \"boundl(18)\": None,\n",
    "    \"pinjalw\": None,\n",
    "    \"alstroh\": None,\n",
    "    \"sig_tf_wp_max\": None,\n",
    "    \"aspect\": None,\n",
    "    \"boundu(2)\": 30.0,\n",
    "    \"triang\": None,\n",
    "}"
   ]
  },
  {
   "cell_type": "code",
   "execution_count": 4,
   "metadata": {},
   "outputs": [
    {
     "name": "stdout",
     "output_type": "stream",
     "text": [
      "pinjalw = 100.0 is out of bounds [51.0, 61.0]\n"
     ]
    }
   ],
   "source": [
    "# Solution input file is the design point\n",
    "input_path = Path(input_file_name)\n",
    "with open(input_path, \"r\") as f:\n",
    "    text = f.read()\n",
    "\n",
    "for param, bounds in params.items():\n",
    "    # Find param and value in input file\n",
    "    # Escape brackets\n",
    "    param_re = param.replace(\"(\", \"\\(\")\n",
    "    param_re = param_re.replace(\")\", \"\\)\")\n",
    "    matches = re.search(param_re + r\"\\s+=\\s+(\\d+\\.?\\d*e?E?d?D?[-+]?\\d*)\", text)\n",
    "\n",
    "    if matches:\n",
    "        # Value defined in input file\n",
    "        value_str = matches.group(1)\n",
    "        value_str = value_str.replace(\"D\", \"e\")\n",
    "        value_str = value_str.replace(\"d\", \"e\")\n",
    "        value = float(value_str)\n",
    "    else:\n",
    "        # Not defined in input, get value from defaults\n",
    "        value = default_params[param]\n",
    "        if value is None:\n",
    "            print(f\"{param} needs a default setting\")\n",
    "            continue\n",
    "\n",
    "    if value >= bounds[0] and value <= bounds[1]:\n",
    "        # Value is within bounds\n",
    "        pass\n",
    "    else:\n",
    "        print(f\"{param} = {value} is out of bounds {bounds}\")"
   ]
  }
 ],
 "metadata": {
  "kernelspec": {
   "display_name": "dakota",
   "language": "python",
   "name": "python3"
  },
  "language_info": {
   "codemirror_mode": {
    "name": "ipython",
    "version": 3
   },
   "file_extension": ".py",
   "mimetype": "text/x-python",
   "name": "python",
   "nbconvert_exporter": "python",
   "pygments_lexer": "ipython3",
   "version": "3.10.13"
  }
 },
 "nbformat": 4,
 "nbformat_minor": 2
}
