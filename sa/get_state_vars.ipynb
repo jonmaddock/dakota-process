{
 "cells": [
  {
   "cell_type": "markdown",
   "metadata": {},
   "source": [
    "# Get state vars to hold constant for screened SA\n",
    "\n",
    "For the uncertain parameters that won't be used in the full SA (i.e. ones that have been screened out in the Morris OAT analysis), the values at the solution vector need to be extracted from the MFILE. These become the `continuous_state` variables in the Dakota input file."
   ]
  },
  {
   "cell_type": "code",
   "execution_count": 5,
   "metadata": {},
   "outputs": [],
   "source": [
    "from process.io.mfile import MFile\n",
    "from pathlib import Path"
   ]
  },
  {
   "cell_type": "code",
   "execution_count": 6,
   "metadata": {},
   "outputs": [
    {
     "name": "stderr",
     "output_type": "stream",
     "text": [
      "Key 'fdene' not in MFILE. KeyError! Check MFILE\n",
      "Key 'psepbqarmax' not in MFILE. KeyError! Check MFILE\n",
      "Key 'feffcd' not in MFILE. KeyError! Check MFILE\n",
      "Key 'boundl_18' not in MFILE. KeyError! Check MFILE\n",
      "Key 'boundu_2' not in MFILE. KeyError! Check MFILE\n"
     ]
    },
    {
     "name": "stdout",
     "output_type": "stream",
     "text": [
      "\n",
      "\n",
      "\"fdene\"  \"hfact\"  \"coreradius\"  \"psepbqarmax\"  \"peakfactrad\"  \"etaech\"  \"feffcd\"  \"etaiso\"  \"boundl_18\"  \"alstroh\"  \"sig_tf_wp_max\"  \"boundu_2\"\n",
      "  1.2  1.2  0.7500000000000001  9.7  3.33  0.5  1.0  0.9  3.25  720000000.0  640000000.0  12.0\n"
     ]
    }
   ],
   "source": [
    "# TODO Check, make work for both mfiles\n",
    "\n",
    "data_dir = Path(\"../design_points\")\n",
    "# mfile_name = data_dir / \"lt_MFILE.DAT\"\n",
    "mfile_name = data_dir / \"lt_max_q_MFILE.DAT\"\n",
    "\n",
    "# Create Mfile object from mfile\n",
    "mfile_path = Path(mfile_name)\n",
    "mfile = MFile(mfile_path)\n",
    "\n",
    "# Some params aren't in MFILE (either in IN.DAT or defaults relied on)\n",
    "# Include default value manually here\n",
    "unc_params = {\n",
    "    \"fdene\": 1.2,  # input\n",
    "    \"hfact\": 0.0,\n",
    "    \"coreradius\": 0.0,\n",
    "    \"ralpne\": 0.1,  # input\n",
    "    \"fimp_14\": 0.0,\n",
    "    \"psepbqarmax\": 9.7,  # input\n",
    "    \"flhthresh\": 1.0,  # default\n",
    "    \"cboot\": 0.0,\n",
    "    \"peakfactrad\": 0.0,\n",
    "    \"kappa\": 0.0,\n",
    "    \"etaech\": 0.0,\n",
    "    \"feffcd\": 1.0,  # default\n",
    "    \"etath\": 0.0,\n",
    "    \"etaiso\": 0.0,\n",
    "    \"boundl_18\": 3.25,  # input\n",
    "    \"pinjalw\": 0.0,\n",
    "    \"alstroh\": 0.0,\n",
    "    \"sig_tf_wp_max\": 0.0,\n",
    "    \"boundu_2\": 12.0,  # input\n",
    "    \"triang\": 0.0,\n",
    "}\n",
    "\n",
    "screened_in_params = [\n",
    "    \"fimp_14\",\n",
    "    \"ralpne\",\n",
    "    \"kappa\",\n",
    "    \"flhthresh\",\n",
    "    \"triang\",\n",
    "    \"cboot\",\n",
    "    \"pinjalw\",\n",
    "    \"etath\",\n",
    "]\n",
    "for screened_in_param in screened_in_params:\n",
    "    unc_params.pop(screened_in_param, None)\n",
    "\n",
    "# Get uncertain parameter values at solution vector\n",
    "for unc_param in unc_params.keys():\n",
    "    # If value isn't found, mfile raises exception, catches it, returns 0\n",
    "    # TODO Bug here: won't get array values (e.g. boundu_2): have to rely on manual inputs in unc_params\n",
    "    val = mfile.data[unc_param].get_scan(-1)\n",
    "    if val != 0:\n",
    "        unc_params[unc_param] = val\n",
    "\n",
    "\n",
    "# Print for inclusion in dakota input file as continuous_state variables\n",
    "print(\"\\n\")\n",
    "print('\"' + '\"  \"'.join(list(unc_params.keys())) + '\"')\n",
    "vals = list(unc_params.values())\n",
    "vals_str = \"\"\n",
    "for val in vals:\n",
    "    vals_str += f\"  {str(val)}\"\n",
    "\n",
    "print(vals_str)"
   ]
  }
 ],
 "metadata": {
  "kernelspec": {
   "display_name": "dakota",
   "language": "python",
   "name": "python3"
  },
  "language_info": {
   "codemirror_mode": {
    "name": "ipython",
    "version": 3
   },
   "file_extension": ".py",
   "mimetype": "text/x-python",
   "name": "python",
   "nbconvert_exporter": "python",
   "pygments_lexer": "ipython3",
   "version": "3.10.13"
  }
 },
 "nbformat": 4,
 "nbformat_minor": 2
}
