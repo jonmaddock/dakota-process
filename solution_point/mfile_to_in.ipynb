{
 "cells": [
  {
   "attachments": {},
   "cell_type": "markdown",
   "metadata": {},
   "source": [
    "# Convert an output mfile to an input file\n",
    "\n",
    "First, extract the solution (optimisation parameters) from the mfile."
   ]
  },
  {
   "cell_type": "code",
   "execution_count": 1,
   "metadata": {},
   "outputs": [
    {
     "name": "stdout",
     "output_type": "stream",
     "text": [
      "Global solution = {'beta': 0.033648, 'dene': 8.0667e+19, 'fwalld': 0.50758, 'ffuspow': 0.54006, 'ftburn': 0.9994, 'flhthresh': 1.6735, 'fpinj': 0.40071, 'fpnetel': 1.0, 'fbetatry': 0.5087, 'fpeakb': 0.86988, 'coheof': 20264000.0, 'fjohc': 0.55541, 'fjohc0': 0.5419, 'fcohbop': 0.9438, 'fiooic': 0.71737, 'fvdump': 0.95837, 'vdalw': 9.5837, 'fjprot': 0.99639, 'ftmargtf': 0.99673, 'ftmargoh': 0.99653, 'ftaulimit': 0.7193, 'fmaxvvstress': 0.42966, 'foh_stress': 0.90092, 'fne0': 0.59638, 'fpsepbqar': 1.0, 'fstrcase': 0.9967, 'fstrcond': 0.85185, 'bt': 5.294, 'rmajor': 8.0, 'te': 12.489, 'hfact': 1.1886, 'tfcth': 1.2, 'ohcth': 0.57587, 'q': 3.5961, 'bore': 1.9854, 'fvsbrnni': 0.43358, 'tdmptf': 18.429, 'thkcas': 0.28216, 'thwcndut': 0.0080099, 'fcutfsu': 0.84212, 'cpttf': 89795.0, 'ralpne': 0.083954, 'oh_steel_frac': 0.51868, 'fimp(13)': 0.00057149, 'dr_tf_wp': 0.50416}\n"
     ]
    }
   ],
   "source": [
    "from process.io.mfile import MFile\n",
    "from process.io.in_dat import InDat\n",
    "from pathlib import Path\n",
    "\n",
    "MFILE_NAME = \"large_tokamak_MFILE.DAT\"\n",
    "ORIGINAL_IN_NAME = \"large_tokamak_IN.DAT\"\n",
    "SOL_IN_NAME = \"large_tokamak_sol_IN.DAT\"\n",
    "\n",
    "# Create Mfile object from mfile\n",
    "mfile_path = Path(MFILE_NAME)\n",
    "mfile = MFile(mfile_path)\n",
    "\n",
    "# Get number of optimisation parameters\n",
    "n = int(mfile.data[\"nvar\"].get_scan(-1))\n",
    "\n",
    "# Get all n optimisation parameter names and values from \"itvarxxx\" number\n",
    "opt_params = {}\n",
    "for i in range(n):\n",
    "    opt_param_no = f\"itvar{i+1:03}\"\n",
    "    param_name = mfile.data[opt_param_no].var_description\n",
    "    param_value = mfile.data[opt_param_no].get_scan(-1)\n",
    "    opt_params[param_name] = param_value\n",
    "\n",
    "# Print optimisation parameters at global solution\n",
    "print(f\"Global solution = {opt_params}\")"
   ]
  },
  {
   "attachments": {},
   "cell_type": "markdown",
   "metadata": {},
   "source": [
    "Now overwrite the original input file with the solution as the initial optimisation parameters."
   ]
  },
  {
   "cell_type": "code",
   "execution_count": 2,
   "metadata": {},
   "outputs": [],
   "source": [
    "# Now read in original IN.DAT\n",
    "in_dat_path = Path(ORIGINAL_IN_NAME)\n",
    "in_dat = InDat(in_dat_path)\n",
    "\n",
    "# Change to the new optimisation parameter values\n",
    "for var_name, value in opt_params.items():\n",
    "    in_dat.add_parameter(var_name, value)\n",
    "\n",
    "# Write out new IN.DAT, with optimisation parameters set to original solution\n",
    "sol_in_dat_path = Path(SOL_IN_NAME)\n",
    "in_dat.write_in_dat(sol_in_dat_path)"
   ]
  },
  {
   "cell_type": "markdown",
   "metadata": {},
   "source": [
    "Remember to add\n",
    "```\n",
    "* Once through only\n",
    "ioptimz  = -2 * no optimisation\n",
    "```\n",
    "to the `*sol_IN.DAT` to convert it to a once-through, non-optimising run. This can then be used in reliability analysis or optimisation under uncertainty studies."
   ]
  }
 ],
 "metadata": {
  "kernelspec": {
   "display_name": "process-uq",
   "language": "python",
   "name": "python3"
  },
  "language_info": {
   "codemirror_mode": {
    "name": "ipython",
    "version": 3
   },
   "file_extension": ".py",
   "mimetype": "text/x-python",
   "name": "python",
   "nbconvert_exporter": "python",
   "pygments_lexer": "ipython3",
   "version": "3.10.13"
  },
  "orig_nbformat": 4
 },
 "nbformat": 4,
 "nbformat_minor": 2
}
