{
 "cells": [
  {
   "cell_type": "markdown",
   "metadata": {},
   "source": [
    "# Analyse Interval Analysis"
   ]
  },
  {
   "cell_type": "code",
   "execution_count": 12,
   "metadata": {
    "execution": {
     "iopub.execute_input": "2024-07-03T10:54:15.791425Z",
     "iopub.status.busy": "2024-07-03T10:54:15.790506Z",
     "iopub.status.idle": "2024-07-03T10:54:23.411941Z",
     "shell.execute_reply": "2024-07-03T10:54:23.411075Z"
    },
    "metadata": {}
   },
   "outputs": [],
   "source": [
    "from pathlib import Path\n",
    "import pandas as pd\n",
    "from matplotlib import pyplot as plt\n",
    "import re"
   ]
  },
  {
   "cell_type": "markdown",
   "metadata": {},
   "source": [
    "Run with `dakota -i ia.in`."
   ]
  },
  {
   "cell_type": "code",
   "execution_count": 13,
   "metadata": {
    "execution": {
     "iopub.execute_input": "2024-07-03T10:54:23.418230Z",
     "iopub.status.busy": "2024-07-03T10:54:23.418013Z",
     "iopub.status.idle": "2024-07-03T10:54:23.422789Z",
     "shell.execute_reply": "2024-07-03T10:54:23.421990Z"
    },
    "metadata": {}
   },
   "outputs": [],
   "source": [
    "# Remove LHS* files\n",
    "lhs_paths = Path.cwd().glob(\"LHS*\")\n",
    "for lhs_path in lhs_paths:\n",
    "    lhs_path.unlink()"
   ]
  },
  {
   "cell_type": "code",
   "execution_count": 14,
   "metadata": {
    "execution": {
     "iopub.execute_input": "2024-07-03T10:54:23.426813Z",
     "iopub.status.busy": "2024-07-03T10:54:23.426646Z",
     "iopub.status.idle": "2024-07-03T10:54:23.666726Z",
     "shell.execute_reply": "2024-07-03T10:54:23.665590Z"
    },
    "metadata": {}
   },
   "outputs": [
    {
     "data": {
      "text/html": [
       "<div>\n",
       "<style scoped>\n",
       "    .dataframe tbody tr th:only-of-type {\n",
       "        vertical-align: middle;\n",
       "    }\n",
       "\n",
       "    .dataframe tbody tr th {\n",
       "        vertical-align: top;\n",
       "    }\n",
       "\n",
       "    .dataframe thead th {\n",
       "        text-align: right;\n",
       "    }\n",
       "</style>\n",
       "<table border=\"1\" class=\"dataframe\">\n",
       "  <thead>\n",
       "    <tr style=\"text-align: right;\">\n",
       "      <th></th>\n",
       "      <th>Design</th>\n",
       "      <th>LB</th>\n",
       "      <th>UB</th>\n",
       "      <th>LB constraint</th>\n",
       "      <th>UB constraint</th>\n",
       "    </tr>\n",
       "  </thead>\n",
       "  <tbody>\n",
       "    <tr>\n",
       "      <th>0</th>\n",
       "      <td>min $R_{major}$</td>\n",
       "      <td>0.088949</td>\n",
       "      <td>5.234854</td>\n",
       "      <td>Net electric power lower limit</td>\n",
       "      <td>L-H power threshold limit</td>\n",
       "    </tr>\n",
       "    <tr>\n",
       "      <th>1</th>\n",
       "      <td>max $P^{net}_{elec}$</td>\n",
       "      <td>0.005224</td>\n",
       "      <td>153115.247910</td>\n",
       "      <td>TF coil dump voltage upper limit (SCTF)</td>\n",
       "      <td>L-H power threshold limit</td>\n",
       "    </tr>\n",
       "  </tbody>\n",
       "</table>\n",
       "</div>"
      ],
      "text/plain": [
       "                 Design        LB             UB  \\\n",
       "0       min $R_{major}$  0.088949       5.234854   \n",
       "1  max $P^{net}_{elec}$  0.005224  153115.247910   \n",
       "\n",
       "                             LB constraint              UB constraint  \n",
       "0           Net electric power lower limit  L-H power threshold limit  \n",
       "1  TF coil dump voltage upper limit (SCTF)  L-H power threshold limit  "
      ]
     },
     "execution_count": 14,
     "metadata": {},
     "output_type": "execute_result"
    }
   ],
   "source": [
    "# Collect interval results (w response) and constraint numbers that are min and max w\n",
    "out_paths = [\"ia_lt_8p.out\", \"ia_lt_max_net_elec_8p.out\"]\n",
    "# out_paths = [\"ia_lt_1p.out\"]  # testing\n",
    "intervals = {\"design\": [], \"min\": [], \"max\": [], \"min_con_id\": [], \"max_con_id\": []}\n",
    "design_names = {\n",
    "    # \"ia_lt_1p\": \"test\",\n",
    "    \"ia_lt_8p\": \"min $R_{major}$\",\n",
    "    \"ia_lt_max_net_elec_8p\": \"max $P^{net}_{elec}$\",\n",
    "}\n",
    "con_ids = {\n",
    "    13: \"Burn time lower limit\",\n",
    "    15: \"L-H power threshold limit\",\n",
    "    16: \"Net electric power lower limit\",\n",
    "    34: \"TF coil dump voltage upper limit (SCTF)\",\n",
    "}\n",
    "min_max_re = re.compile(r\"w:\\s+Min\\s=\\s(\\d\\.\\d+e[+-]\\d+)\\s+Max\\s=\\s(\\d\\.\\d+e[+-]\\d+)\")\n",
    "w_con_id_re = re.compile(r\"\\s+(\\d\\.\\d+e[+-]\\d+)\\s+w\\n\\s+\\s(\\d\\.\\d+e[+-]\\d+)\\sw_con_id\")\n",
    "for results_path in [Path(out_path) for out_path in out_paths]:\n",
    "    # Extract min and max\n",
    "    with open(results_path, \"r\") as f:\n",
    "        # Might be a problem with huge files? Seems alright\n",
    "        text = f.read()\n",
    "\n",
    "    # Find min and max values of w (in results summary)\n",
    "    min_max_matches = min_max_re.search(text)\n",
    "    min = min_max_matches[1]\n",
    "    max = min_max_matches[2]\n",
    "\n",
    "    # Now find constraint id corresponding to w\n",
    "    # Finds all w values and their corresponding con ids (numbers)\n",
    "    w_con_id_matches = w_con_id_re.findall(text)\n",
    "    for w_con_id_match in w_con_id_matches:\n",
    "        if w_con_id_match[0] == min:\n",
    "            # min w con id\n",
    "            min_con_id = int(float(w_con_id_match[1]))\n",
    "        elif w_con_id_match[0] == max:\n",
    "            # max w con id\n",
    "            max_con_id = int(float(w_con_id_match[1]))\n",
    "\n",
    "    # Aggregate data for df\n",
    "    intervals[\"design\"].append(design_names[results_path.stem])\n",
    "    intervals[\"min\"].append(float(min))\n",
    "    intervals[\"max\"].append(float(max))\n",
    "    intervals[\"min_con_id\"].append(con_ids[min_con_id])\n",
    "    intervals[\"max_con_id\"].append(con_ids[max_con_id])\n",
    "\n",
    "df = pd.DataFrame(intervals)\n",
    "col_map = {\n",
    "    \"design\": \"Design\",\n",
    "    \"min\": \"LB\",\n",
    "    \"max\": \"UB\",\n",
    "    \"min_con_id\": \"LB constraint\",\n",
    "    \"max_con_id\": \"UB constraint\",\n",
    "}\n",
    "df = df.rename(columns=col_map)\n",
    "df"
   ]
  },
  {
   "cell_type": "code",
   "execution_count": 15,
   "metadata": {
    "execution": {
     "iopub.execute_input": "2024-07-03T10:54:23.728618Z",
     "iopub.status.busy": "2024-07-03T10:54:23.727992Z",
     "iopub.status.idle": "2024-07-03T10:54:23.733299Z",
     "shell.execute_reply": "2024-07-03T10:54:23.732271Z"
    }
   },
   "outputs": [],
   "source": [
    "df.to_latex(\n",
    "    \"w_intervals.tex\",\n",
    "    float_format=\"%.2e\",\n",
    "    index=False,\n",
    "    # column_format=\"llrrp{0.45\\linewidth}\",\n",
    ")"
   ]
  },
  {
   "cell_type": "code",
   "execution_count": 16,
   "metadata": {
    "execution": {
     "iopub.execute_input": "2024-07-03T10:54:23.736165Z",
     "iopub.status.busy": "2024-07-03T10:54:23.735556Z",
     "iopub.status.idle": "2024-07-03T10:54:25.651447Z",
     "shell.execute_reply": "2024-07-03T10:54:25.650346Z"
    },
    "metadata": {}
   },
   "outputs": [
    {
     "ename": "KeyError",
     "evalue": "'design'",
     "output_type": "error",
     "traceback": [
      "\u001b[0;31m---------------------------------------------------------------------------\u001b[0m",
      "\u001b[0;31mKeyError\u001b[0m                                  Traceback (most recent call last)",
      "File \u001b[0;32m~/anaconda3/envs/dakota/lib/python3.10/site-packages/pandas/core/indexes/base.py:3802\u001b[0m, in \u001b[0;36mIndex.get_loc\u001b[0;34m(self, key)\u001b[0m\n\u001b[1;32m   3801\u001b[0m \u001b[38;5;28;01mtry\u001b[39;00m:\n\u001b[0;32m-> 3802\u001b[0m     \u001b[38;5;28;01mreturn\u001b[39;00m \u001b[38;5;28;43mself\u001b[39;49m\u001b[38;5;241;43m.\u001b[39;49m\u001b[43m_engine\u001b[49m\u001b[38;5;241;43m.\u001b[39;49m\u001b[43mget_loc\u001b[49m\u001b[43m(\u001b[49m\u001b[43mcasted_key\u001b[49m\u001b[43m)\u001b[49m\n\u001b[1;32m   3803\u001b[0m \u001b[38;5;28;01mexcept\u001b[39;00m \u001b[38;5;167;01mKeyError\u001b[39;00m \u001b[38;5;28;01mas\u001b[39;00m err:\n",
      "File \u001b[0;32mindex.pyx:153\u001b[0m, in \u001b[0;36mpandas._libs.index.IndexEngine.get_loc\u001b[0;34m()\u001b[0m\n",
      "File \u001b[0;32mindex.pyx:182\u001b[0m, in \u001b[0;36mpandas._libs.index.IndexEngine.get_loc\u001b[0;34m()\u001b[0m\n",
      "File \u001b[0;32mpandas/_libs/hashtable_class_helper.pxi:7081\u001b[0m, in \u001b[0;36mpandas._libs.hashtable.PyObjectHashTable.get_item\u001b[0;34m()\u001b[0m\n",
      "File \u001b[0;32mpandas/_libs/hashtable_class_helper.pxi:7089\u001b[0m, in \u001b[0;36mpandas._libs.hashtable.PyObjectHashTable.get_item\u001b[0;34m()\u001b[0m\n",
      "\u001b[0;31mKeyError\u001b[0m: 'design'",
      "\nThe above exception was the direct cause of the following exception:\n",
      "\u001b[0;31mKeyError\u001b[0m                                  Traceback (most recent call last)",
      "Cell \u001b[0;32mIn[16], line 5\u001b[0m\n\u001b[1;32m      2\u001b[0m fig, ax \u001b[38;5;241m=\u001b[39m plt\u001b[38;5;241m.\u001b[39msubplots(figsize\u001b[38;5;241m=\u001b[39m(\u001b[38;5;241m5\u001b[39m, \u001b[38;5;241m2.0\u001b[39m))\n\u001b[1;32m      3\u001b[0m \u001b[38;5;28;01mfor\u001b[39;00m i, row \u001b[38;5;129;01min\u001b[39;00m df\u001b[38;5;241m.\u001b[39miterrows():\n\u001b[1;32m      4\u001b[0m     ax\u001b[38;5;241m.\u001b[39mhlines(\n\u001b[0;32m----> 5\u001b[0m         y\u001b[38;5;241m=\u001b[39m\u001b[43mrow\u001b[49m\u001b[43m[\u001b[49m\u001b[38;5;124;43m\"\u001b[39;49m\u001b[38;5;124;43mdesign\u001b[39;49m\u001b[38;5;124;43m\"\u001b[39;49m\u001b[43m]\u001b[49m,\n\u001b[1;32m      6\u001b[0m         xmin\u001b[38;5;241m=\u001b[39mrow[\u001b[38;5;124m\"\u001b[39m\u001b[38;5;124mmin\u001b[39m\u001b[38;5;124m\"\u001b[39m],\n\u001b[1;32m      7\u001b[0m         xmax\u001b[38;5;241m=\u001b[39mrow[\u001b[38;5;124m\"\u001b[39m\u001b[38;5;124mmax\u001b[39m\u001b[38;5;124m\"\u001b[39m],\n\u001b[1;32m      8\u001b[0m         color\u001b[38;5;241m=\u001b[39m\u001b[38;5;124mf\u001b[39m\u001b[38;5;124m\"\u001b[39m\u001b[38;5;124mC\u001b[39m\u001b[38;5;132;01m{\u001b[39;00mi\u001b[38;5;132;01m}\u001b[39;00m\u001b[38;5;124m\"\u001b[39m,\n\u001b[1;32m      9\u001b[0m         linewidth\u001b[38;5;241m=\u001b[39m\u001b[38;5;241m10\u001b[39m,\n\u001b[1;32m     10\u001b[0m     )\n\u001b[1;32m     12\u001b[0m ax\u001b[38;5;241m.\u001b[39mset_xlabel(\u001b[38;5;124m\"\u001b[39m\u001b[38;5;124m$w$, worst-violated constraint\u001b[39m\u001b[38;5;124m\"\u001b[39m)\n\u001b[1;32m     13\u001b[0m ax\u001b[38;5;241m.\u001b[39mset_title(\n\u001b[1;32m     14\u001b[0m     \u001b[38;5;124m\"\u001b[39m\u001b[38;5;124mResponse intervals of the worst-violated constraint $w$ for two\u001b[39m\u001b[38;5;130;01m\\n\u001b[39;00m\u001b[38;5;124mlarge tokamak design points under 8 uncertain parameters\u001b[39m\u001b[38;5;124m\"\u001b[39m\n\u001b[1;32m     15\u001b[0m )\n",
      "File \u001b[0;32m~/anaconda3/envs/dakota/lib/python3.10/site-packages/pandas/core/series.py:1111\u001b[0m, in \u001b[0;36mSeries.__getitem__\u001b[0;34m(self, key)\u001b[0m\n\u001b[1;32m   1108\u001b[0m     \u001b[38;5;28;01mreturn\u001b[39;00m \u001b[38;5;28mself\u001b[39m\u001b[38;5;241m.\u001b[39m_values[key]\n\u001b[1;32m   1110\u001b[0m \u001b[38;5;28;01melif\u001b[39;00m key_is_scalar:\n\u001b[0;32m-> 1111\u001b[0m     \u001b[38;5;28;01mreturn\u001b[39;00m \u001b[38;5;28;43mself\u001b[39;49m\u001b[38;5;241;43m.\u001b[39;49m\u001b[43m_get_value\u001b[49m\u001b[43m(\u001b[49m\u001b[43mkey\u001b[49m\u001b[43m)\u001b[49m\n\u001b[1;32m   1113\u001b[0m \u001b[38;5;66;03m# Convert generator to list before going through hashable part\u001b[39;00m\n\u001b[1;32m   1114\u001b[0m \u001b[38;5;66;03m# (We will iterate through the generator there to check for slices)\u001b[39;00m\n\u001b[1;32m   1115\u001b[0m \u001b[38;5;28;01mif\u001b[39;00m is_iterator(key):\n",
      "File \u001b[0;32m~/anaconda3/envs/dakota/lib/python3.10/site-packages/pandas/core/series.py:1227\u001b[0m, in \u001b[0;36mSeries._get_value\u001b[0;34m(self, label, takeable)\u001b[0m\n\u001b[1;32m   1224\u001b[0m     \u001b[38;5;28;01mreturn\u001b[39;00m \u001b[38;5;28mself\u001b[39m\u001b[38;5;241m.\u001b[39m_values[label]\n\u001b[1;32m   1226\u001b[0m \u001b[38;5;66;03m# Similar to Index.get_value, but we do not fall back to positional\u001b[39;00m\n\u001b[0;32m-> 1227\u001b[0m loc \u001b[38;5;241m=\u001b[39m \u001b[38;5;28;43mself\u001b[39;49m\u001b[38;5;241;43m.\u001b[39;49m\u001b[43mindex\u001b[49m\u001b[38;5;241;43m.\u001b[39;49m\u001b[43mget_loc\u001b[49m\u001b[43m(\u001b[49m\u001b[43mlabel\u001b[49m\u001b[43m)\u001b[49m\n\u001b[1;32m   1229\u001b[0m \u001b[38;5;28;01mif\u001b[39;00m is_integer(loc):\n\u001b[1;32m   1230\u001b[0m     \u001b[38;5;28;01mreturn\u001b[39;00m \u001b[38;5;28mself\u001b[39m\u001b[38;5;241m.\u001b[39m_values[loc]\n",
      "File \u001b[0;32m~/anaconda3/envs/dakota/lib/python3.10/site-packages/pandas/core/indexes/base.py:3809\u001b[0m, in \u001b[0;36mIndex.get_loc\u001b[0;34m(self, key)\u001b[0m\n\u001b[1;32m   3804\u001b[0m     \u001b[38;5;28;01mif\u001b[39;00m \u001b[38;5;28misinstance\u001b[39m(casted_key, \u001b[38;5;28mslice\u001b[39m) \u001b[38;5;129;01mor\u001b[39;00m (\n\u001b[1;32m   3805\u001b[0m         \u001b[38;5;28misinstance\u001b[39m(casted_key, abc\u001b[38;5;241m.\u001b[39mIterable)\n\u001b[1;32m   3806\u001b[0m         \u001b[38;5;129;01mand\u001b[39;00m \u001b[38;5;28many\u001b[39m(\u001b[38;5;28misinstance\u001b[39m(x, \u001b[38;5;28mslice\u001b[39m) \u001b[38;5;28;01mfor\u001b[39;00m x \u001b[38;5;129;01min\u001b[39;00m casted_key)\n\u001b[1;32m   3807\u001b[0m     ):\n\u001b[1;32m   3808\u001b[0m         \u001b[38;5;28;01mraise\u001b[39;00m InvalidIndexError(key)\n\u001b[0;32m-> 3809\u001b[0m     \u001b[38;5;28;01mraise\u001b[39;00m \u001b[38;5;167;01mKeyError\u001b[39;00m(key) \u001b[38;5;28;01mfrom\u001b[39;00m \u001b[38;5;21;01merr\u001b[39;00m\n\u001b[1;32m   3810\u001b[0m \u001b[38;5;28;01mexcept\u001b[39;00m \u001b[38;5;167;01mTypeError\u001b[39;00m:\n\u001b[1;32m   3811\u001b[0m     \u001b[38;5;66;03m# If we have a listlike key, _check_indexing_error will raise\u001b[39;00m\n\u001b[1;32m   3812\u001b[0m     \u001b[38;5;66;03m#  InvalidIndexError. Otherwise we fall through and re-raise\u001b[39;00m\n\u001b[1;32m   3813\u001b[0m     \u001b[38;5;66;03m#  the TypeError.\u001b[39;00m\n\u001b[1;32m   3814\u001b[0m     \u001b[38;5;28mself\u001b[39m\u001b[38;5;241m.\u001b[39m_check_indexing_error(key)\n",
      "\u001b[0;31mKeyError\u001b[0m: 'design'"
     ]
    },
    {
     "data": {
      "image/png": "[encoded data removed]",
      "text/plain": [
       "<Figure size 500x200 with 1 Axes>"
      ]
     },
     "metadata": {},
     "output_type": "display_data"
    }
   ],
   "source": [
    "# Custom plot\n",
    "fig, ax = plt.subplots(figsize=(5, 2.0))\n",
    "for i, row in df.iterrows():\n",
    "    ax.hlines(\n",
    "        y=row[\"design\"],\n",
    "        xmin=row[\"min\"],\n",
    "        xmax=row[\"max\"],\n",
    "        color=f\"C{i}\",\n",
    "        linewidth=10,\n",
    "    )\n",
    "\n",
    "ax.set_xlabel(\"$w$, worst-violated constraint\")\n",
    "ax.set_title(\n",
    "    \"Response intervals of the worst-violated constraint $w$ for two\\nlarge tokamak design points under 8 uncertain parameters\"\n",
    ")\n",
    "ax.margins(y=0.5)\n",
    "ax.set_xscale(\"symlog\")\n",
    "ax.axvline(x=0.0, linestyle=\"--\", color=\"grey\")\n",
    "ax.annotate(\"Safe\", xy=(-0.4, -0.8), rotation=90, size=8, color=\"g\")\n",
    "ax.annotate(\"Failure\", xy=(0.2, -0.8), rotation=90, size=8, color=\"r\")\n",
    "plt.savefig(\"ia.pdf\", bbox_inches=\"tight\")"
   ]
  }
 ],
 "metadata": {
  "kernelspec": {
   "display_name": "dakota",
   "language": "python",
   "name": "python3"
  },
  "language_info": {
   "codemirror_mode": {
    "name": "ipython",
    "version": 3
   },
   "file_extension": ".py",
   "mimetype": "text/x-python",
   "name": "python",
   "nbconvert_exporter": "python",
   "pygments_lexer": "ipython3",
   "version": "3.10.13"
  }
 },
 "nbformat": 4,
 "nbformat_minor": 2
}
