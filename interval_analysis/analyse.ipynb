{
 "cells": [
  {
   "cell_type": "markdown",
   "metadata": {},
   "source": [
    "# Analyse Interval Analysis"
   ]
  },
  {
   "cell_type": "code",
   "execution_count": 246,
   "metadata": {
    "execution": {
     "iopub.execute_input": "2024-07-03T10:54:15.791425Z",
     "iopub.status.busy": "2024-07-03T10:54:15.790506Z",
     "iopub.status.idle": "2024-07-03T10:54:23.411941Z",
     "shell.execute_reply": "2024-07-03T10:54:23.411075Z"
    },
    "metadata": {}
   },
   "outputs": [],
   "source": [
    "from pathlib import Path\n",
    "import pandas as pd\n",
    "from matplotlib import pyplot as plt\n",
    "import re"
   ]
  },
  {
   "cell_type": "markdown",
   "metadata": {},
   "source": [
    "Run with `dakota -i ia.in`."
   ]
  },
  {
   "cell_type": "code",
   "execution_count": 247,
   "metadata": {
    "execution": {
     "iopub.execute_input": "2024-07-03T10:54:23.418230Z",
     "iopub.status.busy": "2024-07-03T10:54:23.418013Z",
     "iopub.status.idle": "2024-07-03T10:54:23.422789Z",
     "shell.execute_reply": "2024-07-03T10:54:23.421990Z"
    },
    "metadata": {}
   },
   "outputs": [],
   "source": [
    "# Remove LHS* files\n",
    "lhs_paths = Path.cwd().glob(\"LHS*\")\n",
    "for lhs_path in lhs_paths:\n",
    "    lhs_path.unlink()"
   ]
  },
  {
   "cell_type": "code",
   "execution_count": 248,
   "metadata": {
    "execution": {
     "iopub.execute_input": "2024-07-03T10:54:23.426813Z",
     "iopub.status.busy": "2024-07-03T10:54:23.426646Z",
     "iopub.status.idle": "2024-07-03T10:54:23.666726Z",
     "shell.execute_reply": "2024-07-03T10:54:23.665590Z"
    },
    "metadata": {}
   },
   "outputs": [
    {
     "data": {
      "text/html": [
       "<div>\n",
       "<style scoped>\n",
       "    .dataframe tbody tr th:only-of-type {\n",
       "        vertical-align: middle;\n",
       "    }\n",
       "\n",
       "    .dataframe tbody tr th {\n",
       "        vertical-align: top;\n",
       "    }\n",
       "\n",
       "    .dataframe thead th {\n",
       "        text-align: right;\n",
       "    }\n",
       "</style>\n",
       "<table border=\"1\" class=\"dataframe\">\n",
       "  <thead>\n",
       "    <tr style=\"text-align: right;\">\n",
       "      <th></th>\n",
       "      <th>design</th>\n",
       "      <th>min</th>\n",
       "      <th>max</th>\n",
       "      <th>min_con_id</th>\n",
       "      <th>max_con_id</th>\n",
       "    </tr>\n",
       "  </thead>\n",
       "  <tbody>\n",
       "    <tr>\n",
       "      <th>0</th>\n",
       "      <td>$\\min R_{major}$</td>\n",
       "      <td>0.044737</td>\n",
       "      <td>108530.92467</td>\n",
       "      <td>Density upper limit</td>\n",
       "      <td>L-H power threshold limit</td>\n",
       "    </tr>\n",
       "    <tr>\n",
       "      <th>1</th>\n",
       "      <td>$\\max Q$</td>\n",
       "      <td>-0.000002</td>\n",
       "      <td>140522.51854</td>\n",
       "      <td>Density upper limit</td>\n",
       "      <td>L-H power threshold limit</td>\n",
       "    </tr>\n",
       "  </tbody>\n",
       "</table>\n",
       "</div>"
      ],
      "text/plain": [
       "             design       min           max           min_con_id  \\\n",
       "0  $\\min R_{major}$  0.044737  108530.92467  Density upper limit   \n",
       "1          $\\max Q$ -0.000002  140522.51854  Density upper limit   \n",
       "\n",
       "                  max_con_id  \n",
       "0  L-H power threshold limit  \n",
       "1  L-H power threshold limit  "
      ]
     },
     "execution_count": 248,
     "metadata": {},
     "output_type": "execute_result"
    }
   ],
   "source": [
    "# Collect interval results (w response) and constraint numbers that are min and max w\n",
    "out_paths = [\"ia_lt_8p.out\", \"ia_lt_max_q_8p.out\"]\n",
    "# out_paths = [\"ia_lt_1p.out\"]  # testing\n",
    "intervals = {\"design\": [], \"min\": [], \"max\": [], \"min_con_id\": [], \"max_con_id\": []}\n",
    "design_names = {\n",
    "    # \"ia_lt_1p\": \"test\",\n",
    "    \"ia_lt_8p\": \"$\\min R_{major}$\",\n",
    "    \"ia_lt_max_q_8p\": \"$\\max Q$\",\n",
    "}\n",
    "con_ids = {\n",
    "    5: \"Density upper limit\",\n",
    "    13: \"Burn time lower limit\",\n",
    "    15: \"L-H power threshold limit\",\n",
    "    16: \"Net electric power lower limit\",\n",
    "    34: \"TF coil dump voltage upper limit (SCTF)\",\n",
    "}\n",
    "min_max_re = re.compile(r\"w:\\s+Min\\s=\\s(-?\\d\\.\\d+e[+-]\\d+)\\s+Max\\s=\\s(\\d\\.\\d+e[+-]\\d+)\")\n",
    "w_con_id_re = re.compile(r\"\\s+(\\d\\.\\d+e[+-]\\d+)\\s+w\\n\\s+\\s(\\d\\.\\d+e[+-]\\d+)\\sw_con_id\")\n",
    "for results_path in [Path(out_path) for out_path in out_paths]:\n",
    "    # Extract min and max\n",
    "    with open(results_path, \"r\") as f:\n",
    "        # Might be a problem with huge files? Seems alright\n",
    "        text = f.read()\n",
    "\n",
    "    # Find min and max values of w (in results summary)\n",
    "    min_max_matches = min_max_re.search(text)\n",
    "    min = min_max_matches[1]\n",
    "    max = min_max_matches[2]\n",
    "\n",
    "    # Now find constraint id corresponding to w\n",
    "    # Finds all w values and their corresponding con ids (numbers)\n",
    "    w_con_id_matches = w_con_id_re.findall(text)\n",
    "    for w_con_id_match in w_con_id_matches:\n",
    "        if w_con_id_match[0] == min:\n",
    "            # min w con id\n",
    "            min_con_id = int(float(w_con_id_match[1]))\n",
    "        elif w_con_id_match[0] == max:\n",
    "            # max w con id\n",
    "            max_con_id = int(float(w_con_id_match[1]))\n",
    "\n",
    "    # Aggregate data for df\n",
    "    intervals[\"design\"].append(design_names[results_path.stem])\n",
    "    intervals[\"min\"].append(float(min))\n",
    "    intervals[\"max\"].append(float(max))\n",
    "    intervals[\"min_con_id\"].append(con_ids[min_con_id])\n",
    "    intervals[\"max_con_id\"].append(con_ids[max_con_id])\n",
    "\n",
    "df = pd.DataFrame(intervals)\n",
    "df"
   ]
  },
  {
   "cell_type": "code",
   "execution_count": 249,
   "metadata": {
    "execution": {
     "iopub.execute_input": "2024-07-03T10:54:23.736165Z",
     "iopub.status.busy": "2024-07-03T10:54:23.735556Z",
     "iopub.status.idle": "2024-07-03T10:54:25.651447Z",
     "shell.execute_reply": "2024-07-03T10:54:25.650346Z"
    },
    "metadata": {}
   },
   "outputs": [
    {
     "name": "stderr",
     "output_type": "stream",
     "text": [
      "/tmp/ipykernel_155029/1190157479.py:16: UserWarning: All values for SymLogScale are below linthresh, making it effectively linear. You likely should lower the value of linthresh. \n",
      "  ax.axvline(x=0.0, linestyle=\"--\", color=\"grey\")\n"
     ]
    },
    {
     "data": {
      "image/png": "[encoded data removed]",
      "text/plain": [
       "<Figure size 500x200 with 1 Axes>"
      ]
     },
     "metadata": {},
     "output_type": "display_data"
    }
   ],
   "source": [
    "# Custom plot\n",
    "fig, ax = plt.subplots(figsize=(5, 2.0))\n",
    "for i, row in df.iterrows():\n",
    "    ax.hlines(\n",
    "        y=row[\"design\"],\n",
    "        xmin=row[\"min\"],\n",
    "        xmax=row[\"max\"],\n",
    "        color=f\"C{i}\",\n",
    "        linewidth=10,\n",
    "    )\n",
    "\n",
    "ax.set_xlabel(\"$w$, worst-violated constraint\")\n",
    "ax.set_title(\"Interval analysis of $w$ for two large tokamak designs\")\n",
    "ax.margins(y=0.5)\n",
    "ax.set_xscale(\"symlog\")\n",
    "ax.axvline(x=0.0, linestyle=\"--\", color=\"grey\")\n",
    "ax.annotate(\n",
    "    \"Safe\",\n",
    "    xy=(0.0, 0.0),\n",
    "    xytext=(-9, 20),\n",
    "    textcoords=\"offset points\",\n",
    "    rotation=90,\n",
    "    size=8,\n",
    "    color=\"g\",\n",
    ")\n",
    "ax.annotate(\n",
    "    \"Failure\",\n",
    "    xy=(0.0, 0.0),\n",
    "    xytext=(4, 17),\n",
    "    textcoords=\"offset points\",\n",
    "    rotation=90,\n",
    "    size=8,\n",
    "    color=\"r\",\n",
    ")\n",
    "plt.savefig(\"ia.pdf\", bbox_inches=\"tight\")"
   ]
  },
  {
   "cell_type": "code",
   "execution_count": 250,
   "metadata": {},
   "outputs": [
    {
     "name": "stderr",
     "output_type": "stream",
     "text": [
      "/tmp/ipykernel_155029/587145643.py:49: UserWarning: All values for SymLogScale are below linthresh, making it effectively linear. You likely should lower the value of linthresh. \n",
      "  axes[0].axvline(x=0.0, linestyle=\"--\", color=\"grey\")\n"
     ]
    },
    {
     "data": {
      "image/png": "[encoded data removed]",
      "text/plain": [
       "<Figure size 500x210 with 2 Axes>"
      ]
     },
     "metadata": {},
     "output_type": "display_data"
    }
   ],
   "source": [
    "# Same plot with broken axes\n",
    "fig, axes = plt.subplots(1, 2, sharey=TabError, figsize=(5, 2.1))\n",
    "for ax in axes:\n",
    "    for i, row in df.iterrows():\n",
    "        ax.hlines(\n",
    "            y=row[\"design\"],\n",
    "            xmin=row[\"min\"],\n",
    "            xmax=row[\"max\"],\n",
    "            color=f\"C{i}\",\n",
    "            linewidth=10,\n",
    "        )\n",
    "\n",
    "# Limit view to different portions of data\n",
    "axes[0].set_xscale(\"symlog\", linthresh=1.0e-6)\n",
    "axes[0].set_xlim(-1.0e-5, 0.4)\n",
    "axes[0].spines[\"right\"].set_visible(False)\n",
    "axes[0].yaxis.tick_left()\n",
    "axes[1].spines[\"left\"].set_visible(False)\n",
    "axes[1].set_xlim(1e5, 1.5e5)\n",
    "axes[1].tick_params(labelleft=False)\n",
    "axes[1].yaxis.tick_right()\n",
    "\n",
    "# Hide odd tick labels to avoid overlaps\n",
    "for label in axes[0].xaxis.get_ticklabels()[::2]:\n",
    "    label.set_visible(False)\n",
    "\n",
    "axes[1].ticklabel_format(axis=\"x\", style=\"sci\", scilimits=(0, 0), useMathText=True)\n",
    "\n",
    "d = 0.02  # how big to make the diagonal lines in axes coordinates\n",
    "kwargs = dict(transform=axes[0].transAxes, color=\"k\", clip_on=False)\n",
    "axes[0].plot((1 - d, 1 + d), (-d, +d), **kwargs)  # top-right diagonal\n",
    "axes[0].plot((1 - d, 1 + d), (1 - d, 1 + d), **kwargs)  # bottom-right diagonal\n",
    "kwargs.update(transform=axes[1].transAxes)  # switch to the bottom axes\n",
    "axes[1].plot((-d, +d), (-d, +d), **kwargs)  # top-left diagonal\n",
    "axes[1].plot((-d, +d), (1 - d, 1 + d), **kwargs)  # bottom-left diagonal\n",
    "\n",
    "axes[1].axes.get_yaxis().set_visible(False)\n",
    "\n",
    "# Avoid suptitle and sublabel axes overlaps\n",
    "plt.subplots_adjust(top=0.80)\n",
    "plt.subplots_adjust(bottom=0.31)\n",
    "\n",
    "\n",
    "# Pre-existing\n",
    "fig.supxlabel(\"$w$\")\n",
    "fig.suptitle(\"Interval analysis of $w$ for $\\min R_{major}$ and $\\max Q$ designs\")\n",
    "axes[0].margins(y=0.5)\n",
    "axes[1].margins(y=0.5)\n",
    "axes[0].axvline(x=0.0, linestyle=\"--\", color=\"grey\")\n",
    "axes[0].annotate(\n",
    "    \"Safe\",\n",
    "    xy=(0.0, 0.0),\n",
    "    xytext=(-12, 10),\n",
    "    textcoords=\"offset points\",\n",
    "    rotation=90,\n",
    "    size=8,\n",
    "    color=\"g\",\n",
    ")\n",
    "axes[0].annotate(\n",
    "    \"Failure\",\n",
    "    xy=(0.0, 0.0),\n",
    "    xytext=(6, 7),\n",
    "    textcoords=\"offset points\",\n",
    "    rotation=90,\n",
    "    size=8,\n",
    "    color=\"r\",\n",
    ")\n",
    "plt.savefig(\"ia.pdf\", bbox_inches=\"tight\")"
   ]
  },
  {
   "cell_type": "code",
   "execution_count": 251,
   "metadata": {},
   "outputs": [
    {
     "data": {
      "text/html": [
       "<div>\n",
       "<style scoped>\n",
       "    .dataframe tbody tr th:only-of-type {\n",
       "        vertical-align: middle;\n",
       "    }\n",
       "\n",
       "    .dataframe tbody tr th {\n",
       "        vertical-align: top;\n",
       "    }\n",
       "\n",
       "    .dataframe thead th {\n",
       "        text-align: right;\n",
       "    }\n",
       "</style>\n",
       "<table border=\"1\" class=\"dataframe\">\n",
       "  <thead>\n",
       "    <tr style=\"text-align: right;\">\n",
       "      <th></th>\n",
       "      <th>Design</th>\n",
       "      <th>LB</th>\n",
       "      <th>UB</th>\n",
       "      <th>Limiting LB constraint</th>\n",
       "      <th>Limiting UB constraint</th>\n",
       "    </tr>\n",
       "  </thead>\n",
       "  <tbody>\n",
       "    <tr>\n",
       "      <th>0</th>\n",
       "      <td>$\\min R_{major}$</td>\n",
       "      <td>0.044737</td>\n",
       "      <td>108530.92467</td>\n",
       "      <td>Density upper limit</td>\n",
       "      <td>L-H power threshold limit</td>\n",
       "    </tr>\n",
       "    <tr>\n",
       "      <th>1</th>\n",
       "      <td>$\\max Q$</td>\n",
       "      <td>-0.000002</td>\n",
       "      <td>140522.51854</td>\n",
       "      <td>Density upper limit</td>\n",
       "      <td>L-H power threshold limit</td>\n",
       "    </tr>\n",
       "  </tbody>\n",
       "</table>\n",
       "</div>"
      ],
      "text/plain": [
       "             Design        LB            UB Limiting LB constraint  \\\n",
       "0  $\\min R_{major}$  0.044737  108530.92467    Density upper limit   \n",
       "1          $\\max Q$ -0.000002  140522.51854    Density upper limit   \n",
       "\n",
       "      Limiting UB constraint  \n",
       "0  L-H power threshold limit  \n",
       "1  L-H power threshold limit  "
      ]
     },
     "execution_count": 251,
     "metadata": {},
     "output_type": "execute_result"
    }
   ],
   "source": [
    "col_map = {\n",
    "    \"design\": \"Design\",\n",
    "    \"min\": \"LB\",\n",
    "    \"max\": \"UB\",\n",
    "    \"min_con_id\": \"Limiting LB constraint\",\n",
    "    \"max_con_id\": \"Limiting UB constraint\",\n",
    "}\n",
    "latex_df = df.rename(columns=col_map)\n",
    "latex_df"
   ]
  },
  {
   "cell_type": "code",
   "execution_count": 252,
   "metadata": {},
   "outputs": [],
   "source": [
    "latex_df.to_latex(\n",
    "    \"w_intervals.tex\",\n",
    "    float_format=\"%.2e\",\n",
    "    index=False,\n",
    "    # column_format=\"llrrp{0.45\\linewidth}\",\n",
    ")"
   ]
  }
 ],
 "metadata": {
  "kernelspec": {
   "display_name": "dakota",
   "language": "python",
   "name": "python3"
  },
  "language_info": {
   "codemirror_mode": {
    "name": "ipython",
    "version": 3
   },
   "file_extension": ".py",
   "mimetype": "text/x-python",
   "name": "python",
   "nbconvert_exporter": "python",
   "pygments_lexer": "ipython3",
   "version": "3.10.13"
  }
 },
 "nbformat": 4,
 "nbformat_minor": 2
}
