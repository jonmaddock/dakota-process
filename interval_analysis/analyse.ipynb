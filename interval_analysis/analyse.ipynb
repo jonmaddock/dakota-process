{
 "cells": [
  {
   "cell_type": "markdown",
   "metadata": {},
   "source": [
    "# Analyse Interval Analysis"
   ]
  },
  {
   "cell_type": "code",
   "execution_count": 25,
   "metadata": {
    "execution": {
     "iopub.execute_input": "2024-07-01T13:28:19.606825Z",
     "iopub.status.busy": "2024-07-01T13:28:19.606514Z",
     "iopub.status.idle": "2024-07-01T13:28:21.183749Z",
     "shell.execute_reply": "2024-07-01T13:28:21.182838Z"
    },
    "metadata": {}
   },
   "outputs": [],
   "source": [
    "from pathlib import Path\n",
    "import pandas as pd\n",
    "from matplotlib import pyplot as plt\n",
    "import re"
   ]
  },
  {
   "cell_type": "markdown",
   "metadata": {},
   "source": [
    "Run with `dakota -i ia.in`."
   ]
  },
  {
   "cell_type": "code",
   "execution_count": 26,
   "metadata": {
    "execution": {
     "iopub.execute_input": "2024-07-01T13:28:21.188785Z",
     "iopub.status.busy": "2024-07-01T13:28:21.187432Z",
     "iopub.status.idle": "2024-07-01T13:28:21.196322Z",
     "shell.execute_reply": "2024-07-01T13:28:21.195213Z"
    },
    "metadata": {}
   },
   "outputs": [],
   "source": [
    "# Remove LHS* files\n",
    "lhs_paths = Path.cwd().glob(\"LHS*\")\n",
    "for lhs_path in lhs_paths:\n",
    "    lhs_path.unlink()"
   ]
  },
  {
   "cell_type": "code",
   "execution_count": 27,
   "metadata": {
    "execution": {
     "iopub.execute_input": "2024-07-01T13:28:21.199539Z",
     "iopub.status.busy": "2024-07-01T13:28:21.198849Z",
     "iopub.status.idle": "2024-07-01T13:28:21.225689Z",
     "shell.execute_reply": "2024-07-01T13:28:21.224906Z"
    },
    "metadata": {}
   },
   "outputs": [
    {
     "data": {
      "text/html": [
       "<div>\n",
       "<style scoped>\n",
       "    .dataframe tbody tr th:only-of-type {\n",
       "        vertical-align: middle;\n",
       "    }\n",
       "\n",
       "    .dataframe tbody tr th {\n",
       "        vertical-align: top;\n",
       "    }\n",
       "\n",
       "    .dataframe thead th {\n",
       "        text-align: right;\n",
       "    }\n",
       "</style>\n",
       "<table border=\"1\" class=\"dataframe\">\n",
       "  <thead>\n",
       "    <tr style=\"text-align: right;\">\n",
       "      <th></th>\n",
       "      <th>design</th>\n",
       "      <th>min</th>\n",
       "      <th>max</th>\n",
       "      <th>min_con_id</th>\n",
       "      <th>max_con_id</th>\n",
       "    </tr>\n",
       "  </thead>\n",
       "  <tbody>\n",
       "    <tr>\n",
       "      <th>0</th>\n",
       "      <td>test</td>\n",
       "      <td>0.006653</td>\n",
       "      <td>1.886518</td>\n",
       "      <td>13</td>\n",
       "      <td>15</td>\n",
       "    </tr>\n",
       "  </tbody>\n",
       "</table>\n",
       "</div>"
      ],
      "text/plain": [
       "  design       min       max  min_con_id  max_con_id\n",
       "0   test  0.006653  1.886518          13          15"
      ]
     },
     "execution_count": 27,
     "metadata": {},
     "output_type": "execute_result"
    }
   ],
   "source": [
    "# Collect interval results (w response) and constraint numbers that are min and max w\n",
    "out_paths = [\"ia_lt_8p.out\", \"ia_lt_max_net_elec_8p.out\"]\n",
    "# out_paths = [\"ia_lt_1p.out\"] # testing\n",
    "intervals = {\"design\": [], \"min\": [], \"max\": [], \"min_con_id\": [], \"max_con_id\": []}\n",
    "design_names = {\n",
    "    # \"ia_lt_1p\": \"test\",\n",
    "    \"ia_lt_8p\": \"min $R_{major}$\",\n",
    "    \"ia_lt_max_net_elec_8p\": \"max $P^{net}_{elec}$\",\n",
    "}\n",
    "min_max_re = re.compile(r\"w:\\s+Min\\s=\\s(\\d\\.\\d+e[+-]\\d+)\\s+Max\\s=\\s(\\d\\.\\d+e[+-]\\d+)\")\n",
    "w_con_id_re = re.compile(r\"\\s+(\\d\\.\\d+e[+-]\\d+)\\s+w\\n\\s+\\s(\\d\\.\\d+e[+-]\\d+)\\sw_con_id\")\n",
    "for results_path in [Path(out_path) for out_path in out_paths]:\n",
    "    # Extract min and max\n",
    "    with open(results_path, \"r\") as f:\n",
    "        # Might be a problem with huge files? Seems alright\n",
    "        text = f.read()\n",
    "\n",
    "    # Find min and max values of w (in results summary)\n",
    "    min_max_matches = min_max_re.search(text)\n",
    "    min = min_max_matches[1]\n",
    "    max = min_max_matches[2]\n",
    "\n",
    "    # Now find constraint id corresponding to w\n",
    "    # Finds all w values and their corresponding con ids (numbers)\n",
    "    w_con_id_matches = w_con_id_re.findall(text)\n",
    "    for w_con_id_match in w_con_id_matches:\n",
    "        if w_con_id_match[0] == min:\n",
    "            # min w con id\n",
    "            min_con_id = int(float(w_con_id_match[1]))\n",
    "        elif w_con_id_match[0] == max:\n",
    "            # max w con id\n",
    "            max_con_id = int(float(w_con_id_match[1]))\n",
    "\n",
    "    # Aggregate data for df\n",
    "    intervals[\"design\"].append(design_names[results_path.stem])\n",
    "    intervals[\"min\"].append(float(min))\n",
    "    intervals[\"max\"].append(float(max))\n",
    "    intervals[\"min_con_id\"].append(min_con_id)\n",
    "    intervals[\"max_con_id\"].append(max_con_id)\n",
    "\n",
    "df = pd.DataFrame(intervals)\n",
    "df"
   ]
  },
  {
   "cell_type": "code",
   "execution_count": 28,
   "metadata": {
    "execution": {
     "iopub.execute_input": "2024-07-01T13:28:21.265227Z",
     "iopub.status.busy": "2024-07-01T13:28:21.264501Z",
     "iopub.status.idle": "2024-07-01T13:28:21.644358Z",
     "shell.execute_reply": "2024-07-01T13:28:21.643046Z"
    },
    "metadata": {}
   },
   "outputs": [
    {
     "name": "stderr",
     "output_type": "stream",
     "text": [
      "/tmp/ipykernel_20567/1230910450.py:18: UserWarning: All values for SymLogScale are below linthresh, making it effectively linear. You likely should lower the value of linthresh. \n",
      "  ax.axvline(x=0.0, linestyle=\"--\", color=\"grey\")\n"
     ]
    },
    {
     "data": {
      "image/png": "[encoded data removed]",
      "text/plain": [
       "<Figure size 500x200 with 1 Axes>"
      ]
     },
     "metadata": {},
     "output_type": "display_data"
    }
   ],
   "source": [
    "# Custom plot\n",
    "fig, ax = plt.subplots(figsize=(5, 2.0))\n",
    "for i, row in df.iterrows():\n",
    "    ax.hlines(\n",
    "        y=row[\"design\"],\n",
    "        xmin=row[\"min\"],\n",
    "        xmax=row[\"max\"],\n",
    "        color=f\"C{i}\",\n",
    "        linewidth=10,\n",
    "    )\n",
    "\n",
    "ax.set_xlabel(\"$w$, worst-violated constraint\")\n",
    "ax.set_title(\n",
    "    \"Response intervals of the worst-violated constraint $w$ for two\\nlarge tokamak design points under 8 uncertain parameters\"\n",
    ")\n",
    "ax.margins(y=0.5)\n",
    "ax.set_xscale(\"symlog\")\n",
    "ax.axvline(x=0.0, linestyle=\"--\", color=\"grey\")\n",
    "ax.annotate(\"Safe\", xy=(-0.4, -0.8), rotation=90, size=8, color=\"g\")\n",
    "ax.annotate(\"Failure\", xy=(0.2, -0.8), rotation=90, size=8, color=\"r\")\n",
    "plt.savefig(\"ia.pdf\", bbox_inches=\"tight\")"
   ]
  }
 ],
 "metadata": {
  "kernelspec": {
   "display_name": "dakota",
   "language": "python",
   "name": "python3"
  },
  "language_info": {
   "codemirror_mode": {
    "name": "ipython",
    "version": 3
   },
   "file_extension": ".py",
   "mimetype": "text/x-python",
   "name": "python",
   "nbconvert_exporter": "python",
   "pygments_lexer": "ipython3",
   "version": "3.10.13"
  }
 },
 "nbformat": 4,
 "nbformat_minor": 2
}
