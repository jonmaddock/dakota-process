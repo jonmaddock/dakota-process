{
 "cells": [
  {
   "cell_type": "code",
   "execution_count": 2,
   "metadata": {},
   "outputs": [],
   "source": [
    "import h5py"
   ]
  },
  {
   "cell_type": "code",
   "execution_count": 9,
   "metadata": {},
   "outputs": [
    {
     "name": "stdout",
     "output_type": "stream",
     "text": [
      "<KeysViewHDF5 ['best_objective_functions', 'best_parameters']>\n"
     ]
    }
   ],
   "source": [
    "with h5py.File(\"results.h5\", \"r\") as f:\n",
    "    results = f[\"/methods/NOSPEC_METHOD_ID_2/results/execution:1\"]\n",
    "    print(results.keys())\n",
    "\n",
    "    # Doesn't give final result in hdf5 file:have to loop through \"execution:n\" to find min and max: no good\n",
    "    # Give up on hdf5 for this method"
   ]
  }
 ],
 "metadata": {
  "kernelspec": {
   "display_name": "Python 3 (ipykernel)",
   "language": "python",
   "name": "python3"
  },
  "language_info": {
   "codemirror_mode": {
    "name": "ipython",
    "version": 3
   },
   "file_extension": ".py",
   "mimetype": "text/x-python",
   "name": "python",
   "nbconvert_exporter": "python",
   "pygments_lexer": "ipython3",
   "version": "3.10.13"
  }
 },
 "nbformat": 4,
 "nbformat_minor": 4
}
